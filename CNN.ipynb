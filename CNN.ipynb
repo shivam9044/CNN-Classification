{
 "cells": [
  {
   "cell_type": "code",
   "execution_count": 210,
   "id": "e7a488d2",
   "metadata": {},
   "outputs": [],
   "source": [
    "# importing classes"
   ]
  },
  {
   "cell_type": "code",
   "execution_count": 211,
   "id": "0d828385",
   "metadata": {},
   "outputs": [],
   "source": [
    "import pandas as pd\n",
    "import matplotlib.pyplot as plt\n",
    "import tensorflow as tf\n",
    "from keras.preprocessing.image import ImageDataGenerator"
   ]
  },
  {
   "cell_type": "code",
   "execution_count": 212,
   "id": "3938838f",
   "metadata": {},
   "outputs": [],
   "source": [
    "#generating images  for training set"
   ]
  },
  {
   "cell_type": "code",
   "execution_count": 213,
   "id": "1131a37a",
   "metadata": {},
   "outputs": [],
   "source": [
    "train_datagen = ImageDataGenerator(rescale = 1./255,shear_range = 0.2, zoom_range = 0.2,horizontal_flip = True)"
   ]
  },
  {
   "cell_type": "code",
   "execution_count": 214,
   "id": "4bc54f5c",
   "metadata": {},
   "outputs": [],
   "source": [
    "#generating images for test data"
   ]
  },
  {
   "cell_type": "code",
   "execution_count": 215,
   "id": "92818ec2",
   "metadata": {},
   "outputs": [],
   "source": [
    "test_datagen = ImageDataGenerator(rescale = 1./255)"
   ]
  },
  {
   "cell_type": "code",
   "execution_count": 216,
   "id": "235ebbc2",
   "metadata": {},
   "outputs": [],
   "source": [
    "#generating training set"
   ]
  },
  {
   "cell_type": "code",
   "execution_count": 217,
   "id": "0c9e4537",
   "metadata": {},
   "outputs": [
    {
     "name": "stdout",
     "output_type": "stream",
     "text": [
      "Found 8005 images belonging to 2 classes.\n"
     ]
    }
   ],
   "source": [
    "training_set = train_datagen.flow_from_directory('training_set',target_size = (64, 64),batch_size = 32,class_mode = 'binary')"
   ]
  },
  {
   "cell_type": "code",
   "execution_count": 218,
   "id": "e4c985c4",
   "metadata": {},
   "outputs": [],
   "source": [
    "#generating test data"
   ]
  },
  {
   "cell_type": "code",
   "execution_count": 219,
   "id": "6d5fb50c",
   "metadata": {},
   "outputs": [
    {
     "name": "stdout",
     "output_type": "stream",
     "text": [
      "Found 2023 images belonging to 2 classes.\n"
     ]
    }
   ],
   "source": [
    "test_set = test_datagen.flow_from_directory('test_set',target_size = (64, 64),batch_size = 32,class_mode = 'binary')"
   ]
  },
  {
   "cell_type": "code",
   "execution_count": 220,
   "id": "86639ec4",
   "metadata": {},
   "outputs": [],
   "source": [
    "from tensorflow.keras.models import Sequential\n",
    "from tensorflow.keras.layers import Dense,Dropout"
   ]
  },
  {
   "cell_type": "code",
   "execution_count": 221,
   "id": "3c3e8180",
   "metadata": {},
   "outputs": [],
   "source": [
    "model=Sequential()"
   ]
  },
  {
   "cell_type": "code",
   "execution_count": 222,
   "id": "c959964f",
   "metadata": {},
   "outputs": [],
   "source": [
    "from tensorflow.keras.layers import Conv2D\n",
    "from tensorflow.keras.layers import MaxPool2D\n",
    "from tensorflow.keras.layers import Flatten"
   ]
  },
  {
   "cell_type": "code",
   "execution_count": 223,
   "id": "7beebda9",
   "metadata": {},
   "outputs": [],
   "source": [
    "#adding convolution layer"
   ]
  },
  {
   "cell_type": "code",
   "execution_count": 224,
   "id": "b91f8925",
   "metadata": {},
   "outputs": [],
   "source": [
    "model.add(Conv2D(filters=32, kernel_size=3, padding=\"same\", activation=\"relu\"))"
   ]
  },
  {
   "cell_type": "code",
   "execution_count": 225,
   "id": "b7ad3327",
   "metadata": {},
   "outputs": [],
   "source": [
    "model.add(MaxPool2D(pool_size=2, strides=2, padding='valid'))"
   ]
  },
  {
   "cell_type": "code",
   "execution_count": 226,
   "id": "e065afe8",
   "metadata": {},
   "outputs": [],
   "source": [
    "#adding 2nd convolution layer"
   ]
  },
  {
   "cell_type": "code",
   "execution_count": 227,
   "id": "56d9c83d",
   "metadata": {},
   "outputs": [],
   "source": [
    "model.add(Conv2D(filters=32, kernel_size=3, padding=\"same\", activation=\"relu\"))"
   ]
  },
  {
   "cell_type": "code",
   "execution_count": 228,
   "id": "e65df38b",
   "metadata": {},
   "outputs": [],
   "source": [
    "model.add(MaxPool2D(pool_size=2, strides=2, padding='valid'))"
   ]
  },
  {
   "cell_type": "code",
   "execution_count": 229,
   "id": "68404e84",
   "metadata": {},
   "outputs": [],
   "source": [
    "#flattening"
   ]
  },
  {
   "cell_type": "code",
   "execution_count": 230,
   "id": "a86163f0",
   "metadata": {},
   "outputs": [],
   "source": [
    "model.add(Flatten())"
   ]
  },
  {
   "cell_type": "code",
   "execution_count": 231,
   "id": "2e98e48b",
   "metadata": {},
   "outputs": [],
   "source": [
    "# adding ANN layer"
   ]
  },
  {
   "cell_type": "code",
   "execution_count": 232,
   "id": "12f14128",
   "metadata": {},
   "outputs": [],
   "source": [
    "model.add(Dense(units=128, activation='relu'))"
   ]
  },
  {
   "cell_type": "code",
   "execution_count": 233,
   "id": "5d4dec6c",
   "metadata": {},
   "outputs": [],
   "source": [
    "#output layer"
   ]
  },
  {
   "cell_type": "code",
   "execution_count": 234,
   "id": "7905fb8c",
   "metadata": {},
   "outputs": [],
   "source": [
    "model.add(Dense(units=1, activation='sigmoid'))"
   ]
  },
  {
   "cell_type": "markdown",
   "id": "fd45a8fb",
   "metadata": {},
   "source": [
    "#compiling"
   ]
  },
  {
   "cell_type": "code",
   "execution_count": 235,
   "id": "30735ca3",
   "metadata": {},
   "outputs": [],
   "source": [
    "model.compile(optimizer = 'adam', loss = 'binary_crossentropy', metrics = ['accuracy'])"
   ]
  },
  {
   "cell_type": "code",
   "execution_count": 236,
   "id": "6d10e295",
   "metadata": {},
   "outputs": [
    {
     "name": "stdout",
     "output_type": "stream",
     "text": [
      "Epoch 1/25\n",
      "251/251 [==============================] - 84s 336ms/step - loss: 0.6630 - accuracy: 0.5938 - val_loss: 0.5875 - val_accuracy: 0.7024\n",
      "Epoch 2/25\n",
      "251/251 [==============================] - 81s 322ms/step - loss: 0.5853 - accuracy: 0.6934 - val_loss: 0.5345 - val_accuracy: 0.7336\n",
      "Epoch 3/25\n",
      "251/251 [==============================] - 81s 322ms/step - loss: 0.5463 - accuracy: 0.7252 - val_loss: 0.5113 - val_accuracy: 0.7553\n",
      "Epoch 4/25\n",
      "251/251 [==============================] - 82s 326ms/step - loss: 0.5056 - accuracy: 0.7525 - val_loss: 0.5005 - val_accuracy: 0.7588\n",
      "Epoch 5/25\n",
      "251/251 [==============================] - 86s 342ms/step - loss: 0.4935 - accuracy: 0.7623 - val_loss: 0.4729 - val_accuracy: 0.7756\n",
      "Epoch 6/25\n",
      "251/251 [==============================] - 81s 323ms/step - loss: 0.4743 - accuracy: 0.7725 - val_loss: 0.4958 - val_accuracy: 0.7687\n",
      "Epoch 7/25\n",
      "251/251 [==============================] - 80s 318ms/step - loss: 0.4575 - accuracy: 0.7819 - val_loss: 0.4669 - val_accuracy: 0.7731\n",
      "Epoch 8/25\n",
      "251/251 [==============================] - 79s 315ms/step - loss: 0.4440 - accuracy: 0.7948 - val_loss: 0.4791 - val_accuracy: 0.7731\n",
      "Epoch 9/25\n",
      "251/251 [==============================] - 79s 315ms/step - loss: 0.4327 - accuracy: 0.7961 - val_loss: 0.4547 - val_accuracy: 0.7894\n",
      "Epoch 10/25\n",
      "251/251 [==============================] - 81s 322ms/step - loss: 0.4189 - accuracy: 0.8057 - val_loss: 0.4393 - val_accuracy: 0.7968\n",
      "Epoch 11/25\n",
      "251/251 [==============================] - 69s 274ms/step - loss: 0.4020 - accuracy: 0.8131 - val_loss: 0.4423 - val_accuracy: 0.7993\n",
      "Epoch 12/25\n",
      "251/251 [==============================] - 48s 191ms/step - loss: 0.3953 - accuracy: 0.8177 - val_loss: 0.4368 - val_accuracy: 0.8018\n",
      "Epoch 13/25\n",
      "251/251 [==============================] - 48s 191ms/step - loss: 0.3837 - accuracy: 0.8250 - val_loss: 0.4521 - val_accuracy: 0.8052\n",
      "Epoch 14/25\n",
      "251/251 [==============================] - 49s 197ms/step - loss: 0.3820 - accuracy: 0.8297 - val_loss: 0.4480 - val_accuracy: 0.8087\n",
      "Epoch 15/25\n",
      "251/251 [==============================] - 49s 195ms/step - loss: 0.3624 - accuracy: 0.8312 - val_loss: 0.4278 - val_accuracy: 0.8191\n",
      "Epoch 16/25\n",
      "251/251 [==============================] - 49s 193ms/step - loss: 0.3574 - accuracy: 0.8377 - val_loss: 0.4265 - val_accuracy: 0.8151\n",
      "Epoch 17/25\n",
      "251/251 [==============================] - 49s 194ms/step - loss: 0.3390 - accuracy: 0.8456 - val_loss: 0.4530 - val_accuracy: 0.8077\n",
      "Epoch 18/25\n",
      "251/251 [==============================] - 49s 194ms/step - loss: 0.3415 - accuracy: 0.8481 - val_loss: 0.4199 - val_accuracy: 0.8131\n",
      "Epoch 19/25\n",
      "251/251 [==============================] - 48s 193ms/step - loss: 0.3319 - accuracy: 0.8511 - val_loss: 0.4268 - val_accuracy: 0.8186\n",
      "Epoch 20/25\n",
      "251/251 [==============================] - 49s 194ms/step - loss: 0.3194 - accuracy: 0.8566 - val_loss: 0.4368 - val_accuracy: 0.8166\n",
      "Epoch 21/25\n",
      "251/251 [==============================] - 49s 194ms/step - loss: 0.3132 - accuracy: 0.8628 - val_loss: 0.4130 - val_accuracy: 0.8245\n",
      "Epoch 22/25\n",
      "251/251 [==============================] - 49s 195ms/step - loss: 0.3051 - accuracy: 0.8663 - val_loss: 0.4338 - val_accuracy: 0.8201\n",
      "Epoch 23/25\n",
      "251/251 [==============================] - 48s 193ms/step - loss: 0.2927 - accuracy: 0.8723 - val_loss: 0.4440 - val_accuracy: 0.8230\n",
      "Epoch 24/25\n",
      "251/251 [==============================] - 49s 193ms/step - loss: 0.2864 - accuracy: 0.8740 - val_loss: 0.4561 - val_accuracy: 0.8171\n",
      "Epoch 25/25\n",
      "251/251 [==============================] - 48s 192ms/step - loss: 0.2829 - accuracy: 0.8766 - val_loss: 0.4953 - val_accuracy: 0.8077\n"
     ]
    },
    {
     "data": {
      "text/plain": [
       "<tensorflow.python.keras.callbacks.History at 0x1e64c628b50>"
      ]
     },
     "execution_count": 236,
     "metadata": {},
     "output_type": "execute_result"
    }
   ],
   "source": [
    "model.fit(training_set,epochs = 25,validation_data = test_set,batch_size=64)"
   ]
  },
  {
   "cell_type": "code",
   "execution_count": 237,
   "id": "f652f404",
   "metadata": {},
   "outputs": [
    {
     "data": {
      "text/plain": [
       "<AxesSubplot:>"
      ]
     },
     "execution_count": 237,
     "metadata": {},
     "output_type": "execute_result"
    },
    {
     "data": {
      "image/png": "[encoded data removed]",
      "text/plain": [
       "<Figure size 432x288 with 1 Axes>"
      ]
     },
     "metadata": {
      "needs_background": "light"
     },
     "output_type": "display_data"
    }
   ],
   "source": [
    "df2=pd.DataFrame(model.history.history)\n",
    "df2.plot()"
   ]
  },
  {
   "cell_type": "code",
   "execution_count": null,
   "id": "aaf73502",
   "metadata": {},
   "outputs": [],
   "source": []
  }
 ],
 "metadata": {
  "kernelspec": {
   "display_name": "Python 3",
   "language": "python",
   "name": "python3"
  },
  "language_info": {
   "codemirror_mode": {
    "name": "ipython",
    "version": 3
   },
   "file_extension": ".py",
   "mimetype": "text/x-python",
   "name": "python",
   "nbconvert_exporter": "python",
   "pygments_lexer": "ipython3",
   "version": "3.8.8"
  }
 },
 "nbformat": 4,
 "nbformat_minor": 5
}
